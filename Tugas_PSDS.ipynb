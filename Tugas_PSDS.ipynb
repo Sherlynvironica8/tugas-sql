{
  "nbformat": 4,
  "nbformat_minor": 0,
  "metadata": {
    "colab": {
      "provenance": []
    },
    "kernelspec": {
      "name": "python3",
      "display_name": "Python 3"
    },
    "language_info": {
      "name": "python"
    }
  },
  "cells": [
    {
      "cell_type": "markdown",
      "source": [
        "## Struktur program pada python"
      ],
      "metadata": {
        "id": "al3S5EdsgQ6N"
      }
    },
    {
      "cell_type": "markdown",
      "source": [
        "1. Statement"
      ],
      "metadata": {
        "id": "yQ6e96Kliq6h"
      }
    },
    {
      "cell_type": "code",
      "source": [
        "\n",
        "print(\"belajar phyton menyenangkan\")\n",
        "print(\"halo dunia\")"
      ],
      "metadata": {
        "colab": {
          "base_uri": "https://localhost:8080/"
        },
        "id": "VWGkJ7xJgWIi",
        "outputId": "ac60b245-e55f-4e24-b5df-0d18c803f7f3"
      },
      "execution_count": 1,
      "outputs": [
        {
          "output_type": "stream",
          "name": "stdout",
          "text": [
            "belajar phyton menyenangkan\n",
            "halo dunia\n"
          ]
        }
      ]
    },
    {
      "cell_type": "markdown",
      "source": [
        "2. Variables"
      ],
      "metadata": {
        "id": "e092Pllwi1nH"
      }
    },
    {
      "cell_type": "code",
      "source": [
        "# Variables\n",
        "\n",
        "bilangan1 = 5\n",
        "bilangan2 = 10\n",
        "kalimat = \"Pejuang Data 3\""
      ],
      "metadata": {
        "id": "VMPs_zjdgpgk"
      },
      "execution_count": 3,
      "outputs": []
    },
    {
      "cell_type": "markdown",
      "source": [
        "3. Operators"
      ],
      "metadata": {
        "id": "MGtjwSTti---"
      }
    },
    {
      "cell_type": "code",
      "source": [
        "bilangan1 + bilangan2"
      ],
      "metadata": {
        "colab": {
          "base_uri": "https://localhost:8080/"
        },
        "id": "PsagW3I-hI67",
        "outputId": "b29fd942-dad9-4089-ef3e-e7533d3e92d1"
      },
      "execution_count": 4,
      "outputs": [
        {
          "output_type": "execute_result",
          "data": {
            "text/plain": [
              "15"
            ]
          },
          "metadata": {},
          "execution_count": 4
        }
      ]
    },
    {
      "cell_type": "markdown",
      "source": [
        "## **Comment**"
      ],
      "metadata": {
        "id": "Sqy9-TwyjTk1"
      }
    },
    {
      "cell_type": "markdown",
      "source": [
        "a. single line comment"
      ],
      "metadata": {
        "id": "1SGhJ8q5jWuq"
      }
    },
    {
      "cell_type": "code",
      "source": [
        "# Ini adalah Comment\n",
        "print (\"belajar Python\")"
      ],
      "metadata": {
        "colab": {
          "base_uri": "https://localhost:8080/"
        },
        "id": "RUZUIDXhjanu",
        "outputId": "9f1dba82-5e3f-43e2-eb84-ea03f6b95c24"
      },
      "execution_count": 5,
      "outputs": [
        {
          "output_type": "stream",
          "name": "stdout",
          "text": [
            "belajar Python\n"
          ]
        }
      ]
    },
    {
      "cell_type": "code",
      "source": [
        "b. multi line comment"
      ],
      "metadata": {
        "id": "4IAe80E5jjNP"
      },
      "execution_count": null,
      "outputs": []
    },
    {
      "cell_type": "code",
      "source": [
        "'''\n",
        "Ini adalah komentar panjang\n",
        "Bisa digunakan untuk memberikan penjelasan\n",
        "panjang pada Sell kode Python,\n",
        "Misal dokumentasi program, spesifikasi\n",
        "input output atau lainnya\n",
        "'''\n",
        "print ('Belajar Python menyenangkan')"
      ],
      "metadata": {
        "colab": {
          "base_uri": "https://localhost:8080/"
        },
        "id": "dqS6EQ1Kjn1d",
        "outputId": "1d8a25c2-95d7-4e59-8548-f681e7bdf7a6"
      },
      "execution_count": 6,
      "outputs": [
        {
          "output_type": "stream",
          "name": "stdout",
          "text": [
            "Belajar Python menyenangkan\n"
          ]
        }
      ]
    },
    {
      "cell_type": "code",
      "source": [],
      "metadata": {
        "id": "SK3IJzMVkYCO"
      },
      "execution_count": null,
      "outputs": []
    }
  ]
}